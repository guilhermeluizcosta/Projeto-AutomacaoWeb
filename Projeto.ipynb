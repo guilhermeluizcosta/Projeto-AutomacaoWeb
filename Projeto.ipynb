{
 "cells": [
  {
   "cell_type": "code",
   "execution_count": null,
   "metadata": {},
   "outputs": [],
   "source": [
    "#ler planilha excel,pegar nome, termos banidos, preço minimo , preço maximo \n",
    "#abrir navegador, google shopping, pegar todos os resultados que tenham preço dentro da faixa e sejam o os produtos corretos\n",
    "#o mesmo para o buscape\n",
    "#enviar um email com uma tabela com os itens e preços encontrados junto com o link de compra"
   ]
  },
  {
   "cell_type": "code",
   "execution_count": 75,
   "metadata": {},
   "outputs": [
    {
     "data": {
      "text/html": [
       "<div>\n",
       "<style scoped>\n",
       "    .dataframe tbody tr th:only-of-type {\n",
       "        vertical-align: middle;\n",
       "    }\n",
       "\n",
       "    .dataframe tbody tr th {\n",
       "        vertical-align: top;\n",
       "    }\n",
       "\n",
       "    .dataframe thead th {\n",
       "        text-align: right;\n",
       "    }\n",
       "</style>\n",
       "<table border=\"1\" class=\"dataframe\">\n",
       "  <thead>\n",
       "    <tr style=\"text-align: right;\">\n",
       "      <th></th>\n",
       "      <th>Nome</th>\n",
       "      <th>Termos banidos</th>\n",
       "      <th>Preço mínimo</th>\n",
       "      <th>Preço máximo</th>\n",
       "    </tr>\n",
       "  </thead>\n",
       "  <tbody>\n",
       "    <tr>\n",
       "      <th>0</th>\n",
       "      <td>iphone 14 128gb</td>\n",
       "      <td>mini watch</td>\n",
       "      <td>3500</td>\n",
       "      <td>4000</td>\n",
       "    </tr>\n",
       "    <tr>\n",
       "      <th>1</th>\n",
       "      <td>rtx 3080 ti</td>\n",
       "      <td>zota galax</td>\n",
       "      <td>4000</td>\n",
       "      <td>4500</td>\n",
       "    </tr>\n",
       "  </tbody>\n",
       "</table>\n",
       "</div>"
      ],
      "text/plain": [
       "              Nome Termos banidos  Preço mínimo  Preço máximo\n",
       "0  iphone 14 128gb     mini watch          3500          4000\n",
       "1      rtx 3080 ti     zota galax          4000          4500"
      ]
     },
     "metadata": {},
     "output_type": "display_data"
    }
   ],
   "source": [
    "import serpapi\n",
    "import pandas as pd\n",
    "import os \n",
    "from dotenv import load_dotenv\n",
    "from selenium import webdriver\n",
    "from selenium.webdriver.chrome.service import Service\n",
    "from webdriver_manager.chrome import ChromeDriverManager\n",
    "from selenium.webdriver.common.by import By\n",
    "from selenium.webdriver.common.keys import Keys\n",
    "\n",
    "\n",
    "caminho = os.getcwd()\n",
    "caminho_arquivo = caminho+ r\"\\buscas.xlsx\"\n",
    "tabela = pd.read_excel(caminho_arquivo) # base de dados\n",
    "display(tabela)\n",
    "\n",
    "servico = Service(ChromeDriverManager().install())\n",
    "\n",
    "nome = tabela.loc[0,'Nome']\n",
    "termos_banidos = tabela.loc[0,'Termos banidos'].split(\" \")\n",
    "prec_min = tabela.loc[0,'Preço mínimo']\n",
    "prec_max = tabela.loc[0,'Preço máximo']\n",
    "\n",
    "teste = 'meia-noite'\n",
    "\n"
   ]
  },
  {
   "cell_type": "code",
   "execution_count": 76,
   "metadata": {},
   "outputs": [],
   "source": [
    "def pesquisaGoogle(nome,termos_banidos,prec_min,prec_max):\n",
    "    api_key = 'suachave' #chave do serpapi\n",
    "    client = serpapi.Client(api_key=api_key)\n",
    "    \n",
    "    lista_ofertas = []\n",
    "    resultados = client.search({\n",
    "        'engine': 'google_shopping',\n",
    "        'q':nome, # nome do produto\n",
    "        'gl': 'br', # apenas buscas no Brasil\n",
    "    })\n",
    "\n",
    "    for produto in resultados['shopping_results']:\n",
    "        preco = produto['price'].replace(\"R$\", \"\").replace(\",\",\"\") # retira elementos para conversao pra float\n",
    "        preco = float(preco) # conversao do preço para float\n",
    "        nome =  produto['title'].lower() \n",
    "        link = produto['link']\n",
    "        if prec_min<=preco<=prec_max:\n",
    "            for termo in termos_banidos:\n",
    "                if termo not in nome:\n",
    "                    lista_ofertas.append((nome,preco,link))\n",
    "    \n",
    "    return lista_ofertas\n",
    "                    \n"
   ]
  },
  {
   "cell_type": "code",
   "execution_count": 77,
   "metadata": {},
   "outputs": [
    {
     "name": "stdout",
     "output_type": "stream",
     "text": [
      "[('apple iphone 14 - 128gb - meia-noite.', 3878.99, 'https://www.amazon.com.br/Apple-iPhone-14-128-Cinza-Escuro/dp/B00CLOZBHK?source=ps-sl-shoppingads-lpcontext&ref_=fplfs&psc=1&smid=A1ZZFT5FULY4LN'), ('apple iphone 14 - 128gb - meia-noite.', 3878.99, 'https://www.amazon.com.br/Apple-iPhone-14-128-Cinza-Escuro/dp/B00CLOZBHK?source=ps-sl-shoppingads-lpcontext&ref_=fplfs&psc=1&smid=A1ZZFT5FULY4LN'), ('vitrine iphone 14 preto 128gb', 3779.99, 'https://www.carrefour.com.br/vitrine-----iphone---14---preto--128gb-mp936555183/p'), ('vitrine iphone 14 preto 128gb', 3779.99, 'https://www.carrefour.com.br/vitrine-----iphone---14---preto--128gb-mp936555183/p'), ('usado: iphone 14 128gb azul excelente - trocafone - apple', 3507.94, 'https://www.magazineluiza.com.br/usado-iphone-14-128gb-azul-excelente-trocafone-apple/p/jb20070fe3/te/ip14/?seller_id=trocafone&srsltid=AfmBOool08cp3tXUQMjOL_KKIJ1ieua0obo_Mt7_z7nR_5h9fifTaFCHaWk'), ('usado: iphone 14 128gb azul excelente - trocafone - apple', 3507.94, 'https://www.magazineluiza.com.br/usado-iphone-14-128gb-azul-excelente-trocafone-apple/p/jb20070fe3/te/ip14/?seller_id=trocafone&srsltid=AfmBOool08cp3tXUQMjOL_KKIJ1ieua0obo_Mt7_z7nR_5h9fifTaFCHaWk'), ('iphone 14 128gb - preto - sou como novo', 3699.0, 'https://www.trocafy.com.br/iphone-14-128gb---preto---sou-como-novo---3963/p?idsku=2433&srsltid=AfmBOoqjiPdQOlrZnqwuKjp3g4aAlc2r4w00rL5OUXR_4HDO6JbBRMQgGvE'), ('iphone 14 128gb - preto - sou como novo', 3699.0, 'https://www.trocafy.com.br/iphone-14-128gb---preto---sou-como-novo---3963/p?idsku=2433&srsltid=AfmBOoqjiPdQOlrZnqwuKjp3g4aAlc2r4w00rL5OUXR_4HDO6JbBRMQgGvE'), ('vitrine iphone 14 azul 128 gb', 3779.99, 'https://www.carrefour.com.br/vitrine-iphone--14--azul--128-gb-mp936556529/p'), ('vitrine iphone 14 azul 128 gb', 3779.99, 'https://www.carrefour.com.br/vitrine-iphone--14--azul--128-gb-mp936556529/p'), ('seminovo iphone 14 128gb roxo - condição excelente', 3699.0, 'https://www.iplace.com.br/usado-iphone-14-128gb-roxo/222029E?srsltid=AfmBOopXZw0II7teL2kYWnRlifa9pyfG_VGrZJyv_yPTGKehgrGq4QDmWR0'), ('seminovo iphone 14 128gb roxo - condição excelente', 3699.0, 'https://www.iplace.com.br/usado-iphone-14-128gb-roxo/222029E?srsltid=AfmBOopXZw0II7teL2kYWnRlifa9pyfG_VGrZJyv_yPTGKehgrGq4QDmWR0'), ('vitrine iphone 14 branco 128gb', 3779.99, 'https://www.carrefour.com.br/vitrine---iphone--14--branco-128gb-mp936555204/p'), ('vitrine iphone 14 branco 128gb', 3779.99, 'https://www.carrefour.com.br/vitrine---iphone--14--branco-128gb-mp936555204/p'), ('apple iphone 14 plus (128 gb) - amarelo', 3959.1, 'https://www.mercadolivre.com.br/apple-iphone-14-plus-128-gb-amarelo/p/MLB23062461?matt_tool=18956390&utm_source=google_shopping&utm_medium=organic&item_id=MLB3691971241&from=gshop'), ('apple iphone 14 plus (128 gb) - amarelo', 3959.1, 'https://www.mercadolivre.com.br/apple-iphone-14-plus-128-gb-amarelo/p/MLB23062461?matt_tool=18956390&utm_source=google_shopping&utm_medium=organic&item_id=MLB3691971241&from=gshop'), ('usado: iphone 14 128gb azul excelente - trocafone', 3671.1, 'https://www.americanas.com.br/produto/7473027433/usado-iphone-14-128gb-azul-excelente-trocafone?offerId=66cf881ff85575c5694148df&opn=YSMESP&srsltid=AfmBOorwIEWiM1tg4BdxsRBjsuYOlIOQwrwl3nWnvSSZq7icoEVsfl2YdzA'), ('usado: iphone 14 128gb azul excelente - trocafone', 3671.1, 'https://www.americanas.com.br/produto/7473027433/usado-iphone-14-128gb-azul-excelente-trocafone?offerId=66cf881ff85575c5694148df&opn=YSMESP&srsltid=AfmBOorwIEWiM1tg4BdxsRBjsuYOlIOQwrwl3nWnvSSZq7icoEVsfl2YdzA'), ('iphone 14 (128 gb) estelar - vitrine apple', 3662.1, 'https://www.carrefour.com.br/iphone-14-128-gb-estelar-vitrine-apple-mp937883726/p'), ('iphone 14 (128 gb) estelar - vitrine apple', 3662.1, 'https://www.carrefour.com.br/iphone-14-128-gb-estelar-vitrine-apple-mp937883726/p'), ('vitrine iphone 14 amarelo 128gb', 3779.99, 'https://www.carrefour.com.br/vitrine---iphone-14----amarelo--128gb-mp936555060/p'), ('vitrine iphone 14 amarelo 128gb', 3779.99, 'https://www.carrefour.com.br/vitrine---iphone-14----amarelo--128gb-mp936555060/p'), ('apple iphone 14 128gb 6.1 azul one size / eu plug mpvn3ql/a', 3985.99, 'https://www.tradeinn.com/techinn/pt/apple-iphone-14-128gb-6.1/139331604/p?utm_source=google_products&utm_medium=merchant&id_producte=17677383&country=br&srsltid=AfmBOooKX23S_EEchDbJz9Id90p2Ff7NCkxftP9kCltbS3widkB95NfMEQk'), ('apple iphone 14 128gb 6.1 azul one size / eu plug mpvn3ql/a', 3985.99, 'https://www.tradeinn.com/techinn/pt/apple-iphone-14-128gb-6.1/139331604/p?utm_source=google_products&utm_medium=merchant&id_producte=17677383&country=br&srsltid=AfmBOooKX23S_EEchDbJz9Id90p2Ff7NCkxftP9kCltbS3widkB95NfMEQk'), ('iphone 14 (128 gb) meia noite - vitrine apple', 3662.1, 'https://www.carrefour.com.br/iphone-14-128-gb-meia-noite-vitrine-apple-mp937883754/p'), ('iphone 14 (128 gb) meia noite - vitrine apple', 3662.1, 'https://www.carrefour.com.br/iphone-14-128-gb-meia-noite-vitrine-apple-mp937883754/p'), ('apple | smartphones | iphone 14 128gb | usado', 3935.0, 'https://www.enjoei.com.br/p/iphone-14-128gb-108247670?g_campaign=google_shopping&srsltid=AfmBOooVdST_QR8vCH3xK9fVcBsuYKG-TVGsVsnUpOJsg671eRYJ9xOEwg0'), ('apple | smartphones | iphone 14 128gb | usado', 3935.0, 'https://www.enjoei.com.br/p/iphone-14-128gb-108247670?g_campaign=google_shopping&srsltid=AfmBOooVdST_QR8vCH3xK9fVcBsuYKG-TVGsVsnUpOJsg671eRYJ9xOEwg0'), ('seminovo iphone 14 plus 128gb roxo - condição excelente', 3999.0, 'https://www.iplace.com.br/usado-iphone-14-plus-128gb-roxo/221988E?srsltid=AfmBOopFph2TyAW7acehPdy7GOTgksKNFlEFnv9EnRHIQnzYnGVvIbkXtwc'), ('seminovo iphone 14 plus 128gb roxo - condição excelente', 3999.0, 'https://www.iplace.com.br/usado-iphone-14-plus-128gb-roxo/221988E?srsltid=AfmBOopFph2TyAW7acehPdy7GOTgksKNFlEFnv9EnRHIQnzYnGVvIbkXtwc'), ('apple | smartphones | vendo iphone 14 128 gb', 3695.0, 'https://www.enjoei.com.br/p/vendo-iphone-13-128-gb-105910200?g_campaign=google_shopping&srsltid=AfmBOoqfmNYlzoWBGIsAR-tI6kdu8UfVWpZXcCm4Hid_q1L5QVhPi7syZN0'), ('apple | smartphones | vendo iphone 14 128 gb', 3695.0, 'https://www.enjoei.com.br/p/vendo-iphone-13-128-gb-105910200?g_campaign=google_shopping&srsltid=AfmBOoqfmNYlzoWBGIsAR-tI6kdu8UfVWpZXcCm4Hid_q1L5QVhPi7syZN0'), ('apple iphone 14 blue 128 gb average', 3704.85, 'https://phoneswapstore.com/uk/shop/buy-iphone/apple-iphone-14?setCurrencyId=1&sku=568-BL-12-AV&srsltid=AfmBOorlngJJw7IlrhbL0EV0fC4G02XAbLrHTCi3xaiiEQODdLq5tDvjdZw'), ('apple iphone 14 blue 128 gb average', 3704.85, 'https://phoneswapstore.com/uk/shop/buy-iphone/apple-iphone-14?setCurrencyId=1&sku=568-BL-12-AV&srsltid=AfmBOorlngJJw7IlrhbL0EV0fC4G02XAbLrHTCi3xaiiEQODdLq5tDvjdZw'), ('apple iphone 14 (128 gb) – cor estelar – diversas cores e tamanho !', 3870.0, 'https://vinhoviagemecerveja.com.br/produto/apple-iphone-14-128-gb-estelar/'), ('apple iphone 14 (128 gb) – cor estelar – diversas cores e tamanho !', 3870.0, 'https://vinhoviagemecerveja.com.br/produto/apple-iphone-14-128-gb-estelar/')]\n"
     ]
    }
   ],
   "source": [
    "lista = pesquisaGoogle(nome,termos_banidos,prec_min,prec_max)\n",
    "\n",
    "print(lista)"
   ]
  }
 ],
 "metadata": {
  "kernelspec": {
   "display_name": "Python 3",
   "language": "python",
   "name": "python3"
  },
  "language_info": {
   "codemirror_mode": {
    "name": "ipython",
    "version": 3
   },
   "file_extension": ".py",
   "mimetype": "text/x-python",
   "name": "python",
   "nbconvert_exporter": "python",
   "pygments_lexer": "ipython3",
   "version": "3.12.3"
  }
 },
 "nbformat": 4,
 "nbformat_minor": 2
}
