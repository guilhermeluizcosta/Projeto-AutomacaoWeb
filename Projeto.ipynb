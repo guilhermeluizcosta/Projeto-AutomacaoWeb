{
 "cells": [
  {
   "cell_type": "code",
   "execution_count": null,
   "metadata": {},
   "outputs": [],
   "source": [
    "#ler planilha excel,pegar nome, termos banidos, preço minimo , preço maximo \n",
    "#abrir navegador, google shopping, pegar todos os resultados que tenham preço dentro da faixa e sejam o os produtos corretos\n",
    "#o mesmo para o buscape\n",
    "#enviar um email com uma tabela com os itens e preços encontrados junto com o link de compra"
   ]
  },
  {
   "cell_type": "code",
   "execution_count": 237,
   "metadata": {},
   "outputs": [
    {
     "data": {
      "text/html": [
       "<div>\n",
       "<style scoped>\n",
       "    .dataframe tbody tr th:only-of-type {\n",
       "        vertical-align: middle;\n",
       "    }\n",
       "\n",
       "    .dataframe tbody tr th {\n",
       "        vertical-align: top;\n",
       "    }\n",
       "\n",
       "    .dataframe thead th {\n",
       "        text-align: right;\n",
       "    }\n",
       "</style>\n",
       "<table border=\"1\" class=\"dataframe\">\n",
       "  <thead>\n",
       "    <tr style=\"text-align: right;\">\n",
       "      <th></th>\n",
       "      <th>Nome</th>\n",
       "      <th>Termos banidos</th>\n",
       "      <th>Preço mínimo</th>\n",
       "      <th>Preço máximo</th>\n",
       "    </tr>\n",
       "  </thead>\n",
       "  <tbody>\n",
       "    <tr>\n",
       "      <th>0</th>\n",
       "      <td>iphone 14 128gb</td>\n",
       "      <td>mini watch</td>\n",
       "      <td>3500</td>\n",
       "      <td>4000</td>\n",
       "    </tr>\n",
       "    <tr>\n",
       "      <th>1</th>\n",
       "      <td>rtx 3080 ti</td>\n",
       "      <td>zota galax</td>\n",
       "      <td>4000</td>\n",
       "      <td>4500</td>\n",
       "    </tr>\n",
       "  </tbody>\n",
       "</table>\n",
       "</div>"
      ],
      "text/plain": [
       "              Nome Termos banidos  Preço mínimo  Preço máximo\n",
       "0  iphone 14 128gb     mini watch          3500          4000\n",
       "1      rtx 3080 ti     zota galax          4000          4500"
      ]
     },
     "metadata": {},
     "output_type": "display_data"
    }
   ],
   "source": [
    "import serpapi\n",
    "import pandas as pd\n",
    "import os \n",
    "from dotenv import load_dotenv\n",
    "from selenium import webdriver\n",
    "from selenium.webdriver.chrome.service import Service\n",
    "from webdriver_manager.chrome import ChromeDriverManager\n",
    "from selenium.webdriver.common.by import By\n",
    "from selenium.webdriver.common.keys import Keys\n",
    "from selenium.webdriver.chrome.options import Options\n",
    "\n",
    "\n",
    "caminho = os.getcwd()\n",
    "caminho_arquivo = caminho+ r\"\\buscas.xlsx\"\n",
    "tabela = pd.read_excel(caminho_arquivo) # base de dados\n",
    "display(tabela)\n",
    "\n",
    "servico = Service(ChromeDriverManager().install())\n",
    "\n",
    "options = Options()\n",
    "options.add_argument('--disable-notifications')\n",
    "\n"
   ]
  },
  {
   "cell_type": "code",
   "execution_count": 238,
   "metadata": {},
   "outputs": [],
   "source": [
    "def pesquisaGoogle(nome,termos_banidos,prec_min,prec_max):\n",
    "    api_key = 'chavedoserpapi' #chave do serpapi\n",
    "    client = serpapi.Client(api_key=api_key)\n",
    "    \n",
    "    lista_ofertas = []\n",
    "    resultados = client.search({\n",
    "        'engine': 'google_shopping',\n",
    "        'q':nome, # nome do produto\n",
    "        'gl': 'br', # apenas buscas no Brasil\n",
    "        'num': 10,\n",
    "        \n",
    "    })\n",
    "\n",
    "    for produto in resultados['shopping_results']:\n",
    "        preco = produto['extracted_price'] #preco do produto\n",
    "        nome =  produto['title'].lower() # nome do produto minusculo\n",
    "        link = produto['link'] # link do produto\n",
    "        if prec_min<=preco<=prec_max:\n",
    "            for termo in termos_banidos:\n",
    "                if termo not in nome:\n",
    "                    lista_ofertas.append((nome,preco,link))\n",
    "    \n",
    "    return lista_ofertas\n",
    "\n",
    "def pesquisaBuscape(nome,termos_banidos,prec_min,prec_max):\n",
    "    navegador = webdriver.Chrome(options=options)\n",
    "    navegador.get(\"https://www.buscape.com.br/\")\n",
    "    navegador.find_element(By.CLASS_NAME, 'AutoCompleteStyle_input__WAC2Y').send_keys(nome, Keys.ENTER) # pesquisa o produto\n",
    "\n",
    "    lista_ofertas = []\n",
    "    lista_prod = navegador.find_elements(By.CLASS_NAME,'ProductCard_ProductCard_Inner__gapsh') #lista com os links dos produtos\n",
    "    nome_prod = navegador.find_elements(By.CLASS_NAME,'ProductCard_ProductCard_Name__U_mUQ') # lista com os nome dos produtos\n",
    "    prec_prod = navegador.find_elements(By.CLASS_NAME,'Text_MobileHeadingS__HEz7L') #lista com os preços dos produtos\n",
    "\n",
    "    for i,nome in enumerate(nome_prod):\n",
    "        preco = prec_prod[i].text\n",
    "        preco = float(preco.replace(\"R$\",\"\").replace(\" \",\"\").replace(\".\",\"\").replace(\",\",\".\")) #pega o preço e transforma em float\n",
    "        nome =  nome_prod[i].text \n",
    "        nome = nome.lower() # pega o nome do produto e deixa minusculo\n",
    "        verificacao = True # verificação de termos\n",
    "        \n",
    "        for termo in termos_banidos:\n",
    "            if termo in nome: # verifica se existe ou não o termo banido no nome do produto\n",
    "                verificacao = False \n",
    "\n",
    "        if prec_min<=preco<=prec_max and verificacao==True: # verifica se o produto esta na faixa de valores e continua se não existir termo banido \n",
    "            link = lista_prod[i].get_attribute('href')\n",
    "            lista_ofertas.append((nome,preco,link))\n",
    "\n",
    "    return lista_ofertas\n",
    "                    \n"
   ]
  },
  {
   "cell_type": "code",
   "execution_count": 239,
   "metadata": {},
   "outputs": [
    {
     "name": "stderr",
     "output_type": "stream",
     "text": [
      "The chromedriver version (127.0.6533.99) detected in PATH at c:\\Users\\Guilherme\\AppData\\Local\\Programs\\Python\\Python312\\chromedriver.exe might not be compatible with the detected chrome version (128.0.6613.86); currently, chromedriver 128.0.6613.86 is recommended for chrome 128.*, so it is advised to delete the driver in PATH and retry\n",
      "The chromedriver version (127.0.6533.99) detected in PATH at c:\\Users\\Guilherme\\AppData\\Local\\Programs\\Python\\Python312\\chromedriver.exe might not be compatible with the detected chrome version (128.0.6613.86); currently, chromedriver 128.0.6613.86 is recommended for chrome 128.*, so it is advised to delete the driver in PATH and retry\n"
     ]
    }
   ],
   "source": [
    "tabela_ofertas = pd.DataFrame()\n",
    "for linha in tabela.index:\n",
    "    nome = tabela.loc[linha,'Nome']\n",
    "    termos_banidos = tabela.loc[linha,'Termos banidos'].split(\" \")\n",
    "    prec_min = tabela.loc[linha,'Preço mínimo']\n",
    "    prec_max = tabela.loc[linha,'Preço máximo']\n",
    "    lista_google = pesquisaGoogle(nome,termos_banidos,prec_min,prec_max)\n",
    "\n",
    "    if lista_google:\n",
    "        tabela_google = pd.DataFrame(lista_google, columns=['produto', 'preco', 'link'])\n",
    "        tabela_ofertas = pd.concat([tabela_ofertas,tabela_google])\n",
    "    else:\n",
    "        tabela_google = None\n",
    "\n",
    "    lista_buscape = pesquisaBuscape(nome,termos_banidos,prec_min,prec_max)\n",
    "    if lista_buscape:\n",
    "        tabela_buscape = pd.DataFrame(lista_buscape, columns=['produto', 'preco', 'link'])\n",
    "        tabela_ofertas = pd.concat([tabela_ofertas,tabela_buscape])\n",
    "\n",
    "    else:\n",
    "        tabela_buscape = None\n"
   ]
  },
  {
   "cell_type": "code",
   "execution_count": 241,
   "metadata": {},
   "outputs": [],
   "source": [
    "tabela_ofertas = tabela_ofertas.reset_index(drop=True)\n",
    "tabela_ofertas.to_excel(\"Ofertas.xlsx\", index=False) #criando excel"
   ]
  },
  {
   "cell_type": "code",
   "execution_count": null,
   "metadata": {},
   "outputs": [],
   "source": []
  }
 ],
 "metadata": {
  "kernelspec": {
   "display_name": "Python 3",
   "language": "python",
   "name": "python3"
  },
  "language_info": {
   "codemirror_mode": {
    "name": "ipython",
    "version": 3
   },
   "file_extension": ".py",
   "mimetype": "text/x-python",
   "name": "python",
   "nbconvert_exporter": "python",
   "pygments_lexer": "ipython3",
   "version": "3.12.3"
  }
 },
 "nbformat": 4,
 "nbformat_minor": 2
}
