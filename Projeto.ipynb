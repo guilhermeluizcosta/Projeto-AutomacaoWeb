{
 "cells": [
  {
   "cell_type": "code",
   "execution_count": null,
   "metadata": {},
   "outputs": [],
   "source": [
    "#ler planilha excel,pegar nome, termos banidos, preço minimo , preço maximo \n",
    "#abrir navegador, google shopping, pegar todos os resultados que tenham preço dentro da faixa e sejam o os produtos corretos\n",
    "#o mesmo para o buscape\n",
    "#enviar um email com uma tabela com os itens e preços encontrados junto com o link de compra"
   ]
  },
  {
   "cell_type": "code",
   "execution_count": 229,
   "metadata": {},
   "outputs": [
    {
     "data": {
      "text/html": [
       "<div>\n",
       "<style scoped>\n",
       "    .dataframe tbody tr th:only-of-type {\n",
       "        vertical-align: middle;\n",
       "    }\n",
       "\n",
       "    .dataframe tbody tr th {\n",
       "        vertical-align: top;\n",
       "    }\n",
       "\n",
       "    .dataframe thead th {\n",
       "        text-align: right;\n",
       "    }\n",
       "</style>\n",
       "<table border=\"1\" class=\"dataframe\">\n",
       "  <thead>\n",
       "    <tr style=\"text-align: right;\">\n",
       "      <th></th>\n",
       "      <th>Nome</th>\n",
       "      <th>Termos banidos</th>\n",
       "      <th>Preço mínimo</th>\n",
       "      <th>Preço máximo</th>\n",
       "    </tr>\n",
       "  </thead>\n",
       "  <tbody>\n",
       "    <tr>\n",
       "      <th>0</th>\n",
       "      <td>iphone 14 128gb</td>\n",
       "      <td>mini watch</td>\n",
       "      <td>3500</td>\n",
       "      <td>4000</td>\n",
       "    </tr>\n",
       "    <tr>\n",
       "      <th>1</th>\n",
       "      <td>rtx 3080 ti</td>\n",
       "      <td>zota galax</td>\n",
       "      <td>4000</td>\n",
       "      <td>4500</td>\n",
       "    </tr>\n",
       "  </tbody>\n",
       "</table>\n",
       "</div>"
      ],
      "text/plain": [
       "              Nome Termos banidos  Preço mínimo  Preço máximo\n",
       "0  iphone 14 128gb     mini watch          3500          4000\n",
       "1      rtx 3080 ti     zota galax          4000          4500"
      ]
     },
     "metadata": {},
     "output_type": "display_data"
    }
   ],
   "source": [
    "import pandas as pd\n",
    "import os \n",
    "from selenium import webdriver\n",
    "from selenium.webdriver.chrome.service import Service\n",
    "from webdriver_manager.chrome import ChromeDriverManager\n",
    "from selenium.webdriver.common.by import By\n",
    "from selenium.webdriver.common.keys import Keys\n",
    "\n",
    "\n",
    "caminho = os.getcwd()\n",
    "caminho_arquivo = caminho+ r\"\\buscas.xlsx\"\n",
    "tabela = pd.read_excel(caminho_arquivo) # base de dados\n",
    "display(tabela)\n",
    "\n",
    "servico = Service(ChromeDriverManager().install())\n",
    "navegador = webdriver.Chrome(service=servico) # cria navegador\n",
    "\n",
    "nome = tabela.loc[0,'Nome']\n",
    "termos_banidos = tabela.loc[0,'Termos banidos'].split(\" \")\n",
    "prec_min = tabela.loc[0,'Preço mínimo']\n",
    "prec_max = tabela.loc[0,'Preço máximo']\n",
    "\n"
   ]
  },
  {
   "cell_type": "code",
   "execution_count": 230,
   "metadata": {},
   "outputs": [
    {
     "name": "stdout",
     "output_type": "stream",
     "text": [
      "Apple iPhone 14 - 128gb - Meia-Noite.\n",
      "[('Apple iPhone 14 - 128gb - Meia-Noite.', 3879.0, 'https://www.google.com/url?q=https://www.amazon.com.br/Apple-iPhone-14-128-Cinza-Escuro/dp/B00CLOZBHK%3Fsource%3Dps-sl-shoppingads-lpcontext%26ref_%3Dfplfs%26psc%3D1%26smid%3DA1ZZFT5FULY4LN&opi=95576897&sa=U&ved=0ahUKEwi_pr7g1JuIAxWXr5UCHRYRPBgQ2ykIHA&usg=AOvVaw3r8fo3L2w8JHPm7ta_jaft'), ('Apple iPhone 14 - 128gb - Meia-Noite.', 3879.0, 'https://www.google.com/url?q=https://www.iplace.com.br/apple-iphone-14-128gb-meia-noite-mpuf3br-a/223816%3Fsrsltid%3DAfmBOoq0GL1ltz5zn7UuwZQU0mRIJIzHyz1yMYjaFesgmAQMSxI-z91Mdcw&opi=95576897&sa=U&ved=0ahUKEwi_pr7g1JuIAxWXr5UCHRYRPBgQ2ykIHw&usg=AOvVaw34em2mw-ys2WG_FqNkghhZ'), ('Apple iPhone 14 - 128gb - Meia-Noite.', 3899.0, 'https://www.google.com/url?q=https://www.casasbahia.com.br/apple-iphone-14-128gb-meia-noite-55058313/p/55058313%3Futm_medium%3DCpc%26utm_source%3Dgoogle_freelisting%26IdSku%3D55058313%26idLojista%3D10037%26tipoLojista%3D1P%26srsltid%3DAfmBOorqj3YoT8gvMJvTi7fIXyKetgzGP5Yt52mNwoP4DCo8eEmiZZftZso&opi=95576897&sa=U&ved=0ahUKEwi_pr7g1JuIAxWXr5UCHRYRPBgQ2ykIIg&usg=AOvVaw0PV6YSbUt8NNrVl3qL0728'), ('Apple iPhone 14 - 128gb - Meia-Noite.', 3899.0, 'https://www.google.com/url?q=https://www.pontofrio.com.br/apple-iphone-14-128gb-meia-noite-55058313/p/55058313%3Futm_medium%3Dcpc%26utm_source%3Dgoogle_freelisting%26IdSku%3D55058313%26idLojista%3D16%26tipoLojista%3D1P&opi=95576897&sa=U&ved=0ahUKEwi_pr7g1JuIAxWXr5UCHRYRPBgQ2ykISQ&usg=AOvVaw2UEI1g8fIoQ1DsLqk21E6T'), ('Apple iPhone 14 - 128gb - Meia-Noite.', 3899.0, 'https://www.google.com/url?q=https://www.extra.com.br/apple-iphone-14-128gb-meia-noite-55058313/p/55058313%3Futm_medium%3Dcpc%26utm_source%3Dgoogle_freelisting%26IdSku%3D55058313%26idLojista%3D15%26tipoLojista%3D1P&opi=95576897&sa=U&ved=0ahUKEwi_pr7g1JuIAxWXr5UCHRYRPBgQ2ykIUA&usg=AOvVaw1Ho8lvmkoxks2YpZIAKRW4')]\n"
     ]
    }
   ],
   "source": [
    "navegador.get(\"https://www.google.com\")\n",
    "navegador.find_element(By.XPATH,'//*[@id=\"APjFqb\"]').send_keys(nome,Keys.ENTER)\n",
    "navegador.find_element(By.XPATH,'//*[@id=\"hdtb-sc\"]/div/div/div[1]/div/div[2]/a/div').click()\n",
    "lista_ofertas = []\n",
    "\n",
    "if navegador.find_element(By.CLASS_NAME,'CSEDeb'):#verifica se existe melhor correspondencia no google \n",
    "    for i in range(20):\n",
    "        qtde_scroll = i * 100\n",
    "        navegador.execute_script(f'window.scroll(0, {qtde_scroll})')\n",
    "    navegador.find_element(By.XPATH,'//*[@id=\"rso\"]/div[2]/div[3]/div/div[2]/div/div/div[2]/div/div/div[1]/div[2]/div[4]/div[2]/a').click()\n",
    "\n",
    "    lista_prec = navegador.find_elements(By.CLASS_NAME,'fObmGc')\n",
    "    precos = []\n",
    "    for preco in lista_prec :\n",
    "        prec = preco.text\n",
    "        prec = prec.replace(\"R$\", \"\").replace(\" \", \"\").replace(\".\", \"\").replace(\",\", \".\")\n",
    "\n",
    "        try:\n",
    "            prec = float(prec)\n",
    "            precos.append(prec)\n",
    "\n",
    "        except:\n",
    "            prec = 0\n",
    "            precos.append(prec)\n",
    "\n",
    "    nome_site = navegador.find_element(By.CLASS_NAME,'BvQan').text\n",
    "    print(nome_site)\n",
    "    lista_sites = navegador.find_elements(By.CLASS_NAME,'b5ycib')\n",
    "\n",
    "    for i,site in enumerate(lista_sites):\n",
    "        if prec_min<=precos[i]<prec_max:\n",
    "            link= site.get_attribute('href')\n",
    "            lista_ofertas.append((nome_site,precos[i],link))\n",
    "else: #se nao tiver\n",
    "    print('nao existe')\n",
    "\n",
    "\n",
    "print(lista_ofertas)"
   ]
  }
 ],
 "metadata": {
  "kernelspec": {
   "display_name": "Python 3",
   "language": "python",
   "name": "python3"
  },
  "language_info": {
   "codemirror_mode": {
    "name": "ipython",
    "version": 3
   },
   "file_extension": ".py",
   "mimetype": "text/x-python",
   "name": "python",
   "nbconvert_exporter": "python",
   "pygments_lexer": "ipython3",
   "version": "3.12.3"
  }
 },
 "nbformat": 4,
 "nbformat_minor": 2
}
